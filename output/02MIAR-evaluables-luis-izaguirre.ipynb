{
 "cells": [
  {
   "cell_type": "markdown",
   "metadata": {},
   "source": [
    "<div>\n",
    "    <img src=\"https://www.dropbox.com/s/crnfuz6kotkjzxa/viu_logo.png?dl=1\" width=\"400\"/>\n",
    "</div>"
   ]
  },
  {
   "cell_type": "markdown",
   "metadata": {},
   "source": [
    "## 02MIAR - Matemáticas para la Inteligencia Artificial\n",
    "### Ejercicios Evaluables\n",
    "\n",
    "*por Luis Arturo Izaguirre Viera - lsizaguirre@gmail.com*\n",
    "\n",
    "---"
   ]
  },
  {
   "cell_type": "markdown",
   "metadata": {},
   "source": [
    "__NOTA: Este notebook forma parte de la entrega de los ejercicios evaluables de la asignatura de Matematicas para la Inteligencia Artificial. En este documento solo se incorporan los códigos en Python asociados a los ejercicios planteados y se entrega junto a un documento (.pdf) anexo donde se desarrollan el resto de ejercicios.__\n",
    "\n",
    "---"
   ]
  },
  {
   "cell_type": "markdown",
   "metadata": {},
   "source": [
    "## Primer ejercicio.\n",
    "\n",
    "Resuelto en el PDF anexo.\n",
    "\n",
    "---"
   ]
  },
  {
   "cell_type": "markdown",
   "metadata": {},
   "source": [
    "## Segundo ejercicio.\n",
    "\n",
    "Sea $A \\in \\mathbb R^{3x3}$ la matriz cuadrada dada por\n",
    "\\begin{equation*}\n",
    "    A = \n",
    "    \\begin{pmatrix}\n",
    "        3 & -3 & 2\\\\\n",
    "        -4 & 4 & -4\\\\\n",
    "        -3 & 3 & -2\n",
    "    \\end{pmatrix}\n",
    "\\end{equation*}\n",
    "\n",
    "Obténgase cuatro matrices $B \\in \\mathbb R^{3x3}$ tales que $B^{2} = A$.\n",
    "Sugerencia: diagonalizar A puede ser de utilidad. Para el proceso de diagonalización, puedes hacer uso de `numpy.linalg.eig` en Python."
   ]
  },
  {
   "cell_type": "markdown",
   "metadata": {},
   "source": [
    "### Solución: \n",
    "\n",
    "1.- Importamos las librerias necesarias y utilizamos un comando propio de NumPy que nos va a permitir suprimir la notación científica a la hora de imprimir valores y configurar una precisión de 5 decimales"
   ]
  },
  {
   "cell_type": "code",
   "execution_count": 1,
   "metadata": {},
   "outputs": [],
   "source": [
    "import numpy as np\n",
    "\n",
    "np.set_printoptions(suppress=True, precision=5)"
   ]
  },
  {
   "cell_type": "markdown",
   "metadata": {},
   "source": [
    "<br/>\n",
    "2.- Inicializamos la matriz $A$"
   ]
  },
  {
   "cell_type": "code",
   "execution_count": 2,
   "metadata": {},
   "outputs": [],
   "source": [
    "A = np.array([[3,-3,2], \n",
    "              [-4,4,-4], \n",
    "              [-3,3,-2]])"
   ]
  },
  {
   "cell_type": "markdown",
   "metadata": {},
   "source": [
    "<br/>\n",
    "3. Para buscar una matriz B tal que $B^2 = A$, debemos encontrar los valores propios y los vectores propios"
   ]
  },
  {
   "cell_type": "code",
   "execution_count": 3,
   "metadata": {},
   "outputs": [
    {
     "name": "stdout",
     "output_type": "stream",
     "text": [
      "Los valores_propios de A son:\n",
      " [4. 0. 1.]\n",
      "\n",
      "Los vectores_propios de A son:\n",
      " [[-0.57735  0.70711 -0.70711]\n",
      " [ 0.57735  0.70711  0.     ]\n",
      " [ 0.57735 -0.       0.70711]]\n"
     ]
    }
   ],
   "source": [
    "valores_propios, vectores_propios = np.linalg.eig(A) \n",
    "\n",
    "print(f'Los valores_propios de A son:\\n {valores_propios}\\n')\n",
    "print(f'Los vectores_propios de A son:\\n {vectores_propios}')"
   ]
  },
  {
   "cell_type": "markdown",
   "metadata": {},
   "source": [
    "<br/>\n",
    "\n",
    "Estos valores nos permitirán diagonalizar la matriz $A$ y poder escribirla de la forma $A=PDP^{-1}$ \n",
    "\n",
    "Nuestro objetivo es encontrar una matriz $B$, tal que $B^{2}=A$, por lo tanto podemos decir que habrá una matriz $B$, tal que $B=PD^{1/2}P^{-1}$\n",
    "\n",
    "Para ello, primero calculamos $P$ y $P^{-1}$"
   ]
  },
  {
   "cell_type": "code",
   "execution_count": 4,
   "metadata": {},
   "outputs": [
    {
     "name": "stdout",
     "output_type": "stream",
     "text": [
      "La matriz P es:\n",
      " [[-0.57735  0.70711 -0.70711]\n",
      " [ 0.57735  0.70711  0.     ]\n",
      " [ 0.57735 -0.       0.70711]]\n",
      "\n",
      "La matriz P invertida es:\n",
      " [[-1.73205  1.73205 -1.73205]\n",
      " [ 1.41421 -0.       1.41421]\n",
      " [ 1.41421 -1.41421  2.82843]]\n",
      "\n"
     ]
    }
   ],
   "source": [
    "P = vectores_propios\n",
    "P_INVERTIDA = np.linalg.inv(P)\n",
    "\n",
    "print(f'La matriz P es:\\n {P}\\n')\n",
    "print(f'La matriz P invertida es:\\n {P_INVERTIDA}\\n')"
   ]
  },
  {
   "cell_type": "markdown",
   "metadata": {},
   "source": [
    "<br/>\n",
    "Para obtener la matriz diagonal $D$ lo hacemos a partir de los vectores propios.\n",
    "La matriz diagonal $D$ es:\n",
    "<br/><br/>\n",
    "\n",
    "\\begin{equation*}\n",
    "    D = \n",
    "    \\begin{pmatrix}\n",
    "        4 & 0 & 0\\\\\n",
    "        0 & 0 & 0\\\\\n",
    "        0 & 0 & 1\n",
    "    \\end{pmatrix}\n",
    "\\end{equation*}\n",
    "\\\n",
    "Algo realmente interesante que podemos observar acá es lo siguiente\n",
    "\\\n",
    "\\begin{equation*}\n",
    "    D^{1/2} = \n",
    "    \\begin{pmatrix}\n",
    "        \\sqrt{4} & 0 & 0\\\\\n",
    "        0 & \\sqrt{0} & 0\\\\\n",
    "        0 & 0 & \\sqrt{1}\n",
    "    \\end{pmatrix}\n",
    "\\end{equation*}\n",
    "\\\n",
    "y como $\\sqrt{ 4 } = \\pm 2$ y $\\sqrt{ 1 } = \\pm 1$, esto nos permite construir 4 matrices diagonales para obtener 4 matrices $B$\n",
    "\\begin{equation*}\n",
    "    D^{1/2}_{1} = \n",
    "    \\begin{pmatrix}\n",
    "        2 & 0 & 0\\\\\n",
    "        0 & 0 & 0\\\\\n",
    "        0 & 0 & 1\n",
    "    \\end{pmatrix}, \n",
    "    D^{1/2}_{2} = \n",
    "    \\begin{pmatrix}\n",
    "        2 & 0 & 0\\\\\n",
    "        0 & 0 & 0\\\\\n",
    "        0 & 0 & -1\n",
    "    \\end{pmatrix}, \n",
    "    D^{1/2}_{3} = \n",
    "    \\begin{pmatrix}\n",
    "        -2 & 0 & 0\\\\\n",
    "        0 & 0 & 0\\\\\n",
    "        0 & 0 & 1\n",
    "    \\end{pmatrix}, \n",
    "    D^{1/2}_{4} = \n",
    "    \\begin{pmatrix}\n",
    "        -2 & 0 & 0\\\\\n",
    "        0 & 0 & 0\\\\\n",
    "        0 & 0 & -1\n",
    "    \\end{pmatrix}\n",
    "\\end{equation*}"
   ]
  },
  {
   "cell_type": "markdown",
   "metadata": {},
   "source": [
    "<br/>\n",
    "Primer caso, con:\n",
    "\\begin{equation*}\n",
    "    D^{1/2}_{1} = \n",
    "    \\begin{pmatrix}\n",
    "        2 & 0 & 0\\\\\n",
    "        0 & 0 & 0\\\\\n",
    "        0 & 0 & 1\n",
    "    \\end{pmatrix}\n",
    "\\end{equation*} "
   ]
  },
  {
   "cell_type": "code",
   "execution_count": 5,
   "metadata": {},
   "outputs": [
    {
     "name": "stdout",
     "output_type": "stream",
     "text": [
      "La matriz B es:\n",
      " [[ 1. -1.  0.]\n",
      " [-2.  2. -2.]\n",
      " [-1.  1. -0.]]\n",
      "\n",
      "La matriz B**2 es:\n",
      " [[ 3. -3.  2.]\n",
      " [-4.  4. -4.]\n",
      " [-3.  3. -2.]]\n",
      "\n"
     ]
    }
   ],
   "source": [
    "D_SQRT = np.array([[2, 0, 0], [0, 0, 0], [0, 0, 1]])\n",
    "\n",
    "B = np.matmul(np.matmul(P,D_SQRT), P_INVERTIDA)\n",
    "print(f'La matriz B es:\\n {B}\\n')\n",
    "\n",
    "BB = np.matmul(B,B)\n",
    "print(f'La matriz B**2 es:\\n {BB}\\n')"
   ]
  },
  {
   "cell_type": "markdown",
   "metadata": {},
   "source": [
    "<br/>\n",
    "Segundo caso, con:\n",
    "\\begin{equation*}\n",
    "    D^{1/2}_{2} = \n",
    "    \\begin{pmatrix}\n",
    "        -2 & 0 & 0\\\\\n",
    "        0 & 0 & 0\\\\\n",
    "        0 & 0 & 1\n",
    "    \\end{pmatrix}\n",
    "\\end{equation*} "
   ]
  },
  {
   "cell_type": "code",
   "execution_count": 6,
   "metadata": {},
   "outputs": [
    {
     "name": "stdout",
     "output_type": "stream",
     "text": [
      "La matriz B es:\n",
      " [[-3.  3. -4.]\n",
      " [ 2. -2.  2.]\n",
      " [ 3. -3.  4.]]\n",
      "\n",
      "La matriz B**2 es:\n",
      " [[ 3. -3.  2.]\n",
      " [-4.  4. -4.]\n",
      " [-3.  3. -2.]]\n",
      "\n"
     ]
    }
   ],
   "source": [
    "D_SQRT = np.array([[-2, 0, 0], [0, 0, 0], [0, 0, 1]])\n",
    "\n",
    "B = np.matmul(np.matmul(P,D_SQRT), P_INVERTIDA)\n",
    "print(f'La matriz B es:\\n {B}\\n')\n",
    "\n",
    "BB = np.matmul(B,B)\n",
    "print(f'La matriz B**2 es:\\n {BB}\\n')"
   ]
  },
  {
   "cell_type": "markdown",
   "metadata": {},
   "source": [
    "<br/>\n",
    "Tercer caso, con:\n",
    "\\begin{equation*}\n",
    "    D^{1/2}_{3} = \n",
    "    \\begin{pmatrix}\n",
    "        2 & 0 & 0\\\\\n",
    "        0 & 0 & 0\\\\\n",
    "        0 & 0 & -1\n",
    "    \\end{pmatrix}\n",
    "\\end{equation*} "
   ]
  },
  {
   "cell_type": "code",
   "execution_count": 7,
   "metadata": {},
   "outputs": [
    {
     "name": "stdout",
     "output_type": "stream",
     "text": [
      "La matriz B es:\n",
      " [[ 3. -3.  4.]\n",
      " [-2.  2. -2.]\n",
      " [-3.  3. -4.]]\n",
      "\n",
      "La matriz B**2 es:\n",
      " [[ 3. -3.  2.]\n",
      " [-4.  4. -4.]\n",
      " [-3.  3. -2.]]\n",
      "\n"
     ]
    }
   ],
   "source": [
    "D_SQRT = np.array([[2, 0, 0], [0, 0, 0], [0, 0, -1]])\n",
    "\n",
    "B = np.matmul(np.matmul(P,D_SQRT), P_INVERTIDA)\n",
    "print(f'La matriz B es:\\n {B}\\n')\n",
    "\n",
    "BB = np.matmul(B,B)\n",
    "print(f'La matriz B**2 es:\\n {BB}\\n')"
   ]
  },
  {
   "cell_type": "markdown",
   "metadata": {},
   "source": [
    "<br/>\n",
    "Cuarto caso, con:\n",
    "\\begin{equation*}\n",
    "    D^{1/2}_{4} = \n",
    "    \\begin{pmatrix}\n",
    "        -2 & 0 & 0\\\\\n",
    "        0 & 0 & 0\\\\\n",
    "        0 & 0 & -1\n",
    "    \\end{pmatrix}\n",
    "\\end{equation*} "
   ]
  },
  {
   "cell_type": "code",
   "execution_count": 8,
   "metadata": {},
   "outputs": [
    {
     "name": "stdout",
     "output_type": "stream",
     "text": [
      "La matriz B es:\n",
      " [[-1.  1. -0.]\n",
      " [ 2. -2.  2.]\n",
      " [ 1. -1.  0.]]\n",
      "\n",
      "La matriz B**2 es:\n",
      " [[ 3. -3.  2.]\n",
      " [-4.  4. -4.]\n",
      " [-3.  3. -2.]]\n",
      "\n"
     ]
    }
   ],
   "source": [
    "D_SQRT = np.array([[-2, 0, 0], [0, 0, 0], [0, 0, -1]])\n",
    "\n",
    "B = np.matmul(np.matmul(P,D_SQRT), P_INVERTIDA)\n",
    "print(f'La matriz B es:\\n {B}\\n')\n",
    "\n",
    "BB = np.matmul(B,B)\n",
    "print(f'La matriz B**2 es:\\n {BB}\\n')"
   ]
  },
  {
   "cell_type": "markdown",
   "metadata": {},
   "source": [
    "\\\n",
    "En conclusión las cuatro matrices $B \\in \\mathbb R^{3x3}$ tales que $B^{2} = A$, serian:\n",
    "<br/><br/>\n",
    "\\begin{equation*}\n",
    "    B_{1} = \n",
    "    \\begin{pmatrix}\n",
    "        1 & -1 & 0\\\\\n",
    "        -2 & 2 & -2\\\\\n",
    "        -1 & 1 & 0\n",
    "    \\end{pmatrix}, \n",
    "    B_{2} = \n",
    "    \\begin{pmatrix}\n",
    "        -3 & 3 & -4\\\\\n",
    "        -2 & 2 & -2\\\\\n",
    "        3 & -3 & 4\n",
    "    \\end{pmatrix}, \n",
    "    B_{3} = \n",
    "    \\begin{pmatrix}\n",
    "        3 & -3 & 4\\\\\n",
    "        -2 & 2 & -2\\\\\n",
    "        -3 & 3 & -4\n",
    "    \\end{pmatrix}, \n",
    "    B_{4} = \n",
    "    \\begin{pmatrix}\n",
    "        -1 & 1 & 0\\\\\n",
    "        2 & -2 & 2\\\\\n",
    "        1 & -1 & 0\n",
    "    \\end{pmatrix}\n",
    "\\end{equation*}\n",
    "<br/><br/>\n",
    "\n",
    "---"
   ]
  },
  {
   "cell_type": "markdown",
   "metadata": {},
   "source": [
    "## Tercer ejercicio\n"
   ]
  },
  {
   "cell_type": "markdown",
   "metadata": {},
   "source": [
    "Prográmese el método de gradient descent para funciones de $n$ variables. La función deberá tener como parámetros de entradas:\n",
    "\n",
    "- El gradiente de la función que se desea minimizar $ \\nabla f $.\n",
    "- Un valor inicial $X_{0} \\in \\mathbb R^{n}$.\n",
    "- El ratio de aprendizaje $\\gamma$ (que se asume constante para cada iteración).\n",
    "- Un parámetro de tolerancia `tol` (con el que finalizar el proceso cuando $|f’(x)|<tol$). Un nu ́mero máximo de iteraciones `maxit`.\n",
    "\n",
    "La salida de la función deberá ser la aproximación del x que cumple $f′(x) \\approx 0$, correspondiente a la última iteración realizada en el método."
   ]
  },
  {
   "cell_type": "markdown",
   "metadata": {},
   "source": [
    "### Solución: \n",
    "\n",
    "En primer lugar vamos a implementar la función gradiente bajo las condiciones especificadas."
   ]
  },
  {
   "cell_type": "code",
   "execution_count": 9,
   "metadata": {},
   "outputs": [],
   "source": [
    "import numpy as np\n",
    "\n",
    "def gradient_descent(max_iterations, threshold, w_init, obj_func,grad_func, learning_rate=0.05):\n",
    "    \n",
    "    w = np.array(w_init)\n",
    "    w_history = w\n",
    "    f_history = obj_func(w)\n",
    "    delta_w = np.zeros(w.shape)\n",
    "    i = 0\n",
    "    diff = 1.0e10\n",
    "    \n",
    "    while  i<max_iterations and diff>threshold:\n",
    "        delta_w = -learning_rate*np.array(grad_func(w))\n",
    "        w = w+delta_w\n",
    "        \n",
    "        # store the history of w and f\n",
    "        w_history = np.vstack((w_history,w))\n",
    "        f_history = np.vstack((f_history,obj_func(w)))\n",
    "        \n",
    "        # update iteration number and diff between successive values\n",
    "        # of objective function\n",
    "        i+=1\n",
    "        diff = np.absolute(f_history[-1]-f_history[-2])\n",
    "    \n",
    "    return w_history,f_history"
   ]
  },
  {
   "cell_type": "markdown",
   "metadata": {},
   "source": [
    "Adicionalmente construiremos una función para la visualización de los resultados en un espacio de tres dimensiones"
   ]
  },
  {
   "cell_type": "code",
   "execution_count": 10,
   "metadata": {},
   "outputs": [],
   "source": [
    "import matplotlib.pyplot as plt\n",
    "\n",
    "def visualize_3D(w_history, fn):  \n",
    "    res = 100\n",
    "    \n",
    "    _X = np.linspace(-5, 5, res)\n",
    "    _Y = np.linspace(-5, 5, res)\n",
    "    _Z = np.zeros((res, res))\n",
    "\n",
    "    for ix, x in enumerate(_X):\n",
    "        for iy, y in enumerate(_Y):\n",
    "            _Z[iy, ix] = fn([x, y])\n",
    "\n",
    "    plt.contourf(_X, _Y, _Z, 1000)\n",
    "    plt.colorbar()\n",
    "    plt.plot(w_history[0,0],w_history[0,1],marker='o',c='white') \n",
    "    for _ in np.arange(1,len(w_history)):\n",
    "        if(_%15 == 0):\n",
    "            plt.plot(w_history[_,0],w_history[_,1],marker='x',c='red') \n",
    "    plt.plot(w_history[-1,0],w_history[-1,1],marker='o',c='green') \n",
    "    plt.show()"
   ]
  },
  {
   "cell_type": "markdown",
   "metadata": {},
   "source": [
    "A continuación, aplica el método a los casos siguientes:\n",
    "\n",
    "### a) $g(x,y)=x^{2}+y^{2}−xy+2y+1$,\n",
    "\n",
    "con $x_{0}$ = (3,4), $\\gamma$ =0.01, tol= 1e-12, maxit= 1e5. \n",
    "\n",
    "Contrasta el resultado obtenido numéricamente con el estudio analítico de la función."
   ]
  },
  {
   "cell_type": "code",
   "execution_count": 11,
   "metadata": {},
   "outputs": [
    {
     "name": "stdout",
     "output_type": "stream",
     "text": [
      "El punto minimo encontrado para la funcion es el definido por [-0.66666 -1.33333]\n",
      "Este punto se encontó en 1332 iteraciones.\n"
     ]
    }
   ],
   "source": [
    "obj_func = lambda v: (v[0] ** 2) + (v[1] ** 2) - (v[0] * v[1]) + (2 * v[1]) + 1\n",
    "grad_func = lambda v: (2 * v[0] - v[1], 2 * v[1] + 2 - v[0]) \n",
    "\n",
    "w_history, f_history = gradient_descent(1e5, 1e-12, (3,4), obj_func, grad_func, 0.01)\n",
    "\n",
    "print(f'El punto minimo encontrado para la funcion es el definido por {w_history[len(w_history)-1]}')\n",
    "print(f'Este punto se encontó en {len(w_history)} iteraciones.')"
   ]
  },
  {
   "cell_type": "markdown",
   "metadata": {},
   "source": [
    "<br>\n",
    "\n",
    "Ahora procederemos a visualmente observar los resultados."
   ]
  },
  {
   "cell_type": "code",
   "execution_count": 12,
   "metadata": {},
   "outputs": [
    {
     "data": {
      "image/png": "[encoded data removed]",
      "text/plain": [
       "<Figure size 432x288 with 2 Axes>"
      ]
     },
     "metadata": {
      "needs_background": "light"
     },
     "output_type": "display_data"
    }
   ],
   "source": [
    "visualize_3D(w_history, obj_func)"
   ]
  },
  {
   "cell_type": "markdown",
   "metadata": {},
   "source": [
    "<br>\n",
    "\n",
    "Los resultados obtenidos concuerdan con el estudio analítico de la función.\n",
    "\n",
    "Dada la función, $g(x,y)=x^{2}+y^{2}−xy+2y+1$\n",
    "\n",
    "sus derivadas parciales serían:\n",
    "\n",
    "$\\frac{\\partial g}{\\partial x} = 2x - y$\n",
    "\n",
    "$\\frac{\\partial g}{\\partial y} = 2y - x + 2$\n",
    "\n",
    "Resolviendo el sistema definido por las derivadas anteriores tenemos que:\n",
    "\n",
    "- x = -2/3\n",
    "- y = -4/3\n",
    "\n",
    "Lo que concuerda con el estudio númerico"
   ]
  },
  {
   "cell_type": "markdown",
   "metadata": {},
   "source": [
    "### b) $f(x) =3x^{4} + 4x^{3} - 12x^{2} + 7$\n",
    "\n",
    "- Aplica el método sobre f(x) con $x_{0}$ = 3, $\\gamma$ = 0.001, tol=1e-12, maxit=1e5"
   ]
  },
  {
   "cell_type": "code",
   "execution_count": 13,
   "metadata": {},
   "outputs": [
    {
     "name": "stdout",
     "output_type": "stream",
     "text": [
      "El punto minimo encontrado para la funcion es el definido por [1.00001]\n",
      "Este punto se encontó en 30393 iteraciones.\n"
     ]
    }
   ],
   "source": [
    "obj_func_f = lambda x: (3 * x ** 4) + (4 * x ** 3) - (12 * x ** 2) + 7\n",
    "\n",
    "grad_func_f = lambda x: (12 * x ** 3) + (12 * x ** 2) - (24 * x) \n",
    "\n",
    "w_history_f1, f_history_f1 = gradient_descent(1e5, 1e-12, 3, obj_func_f, grad_func_f, 0.00001)\n",
    "print(f'El punto minimo encontrado para la funcion es el definido por {w_history_f1[len(w_history_f1)-1]}')\n",
    "print(f'Este punto se encontó en {len(w_history_f1)} iteraciones.')"
   ]
  },
  {
   "cell_type": "markdown",
   "metadata": {},
   "source": [
    "- Aplica de nuevo el método sobre f(x) con $x_{0}$ = 3, $\\gamma$ = 0.01, tol=1e-12, maxit=1e5."
   ]
  },
  {
   "cell_type": "code",
   "execution_count": 14,
   "metadata": {},
   "outputs": [
    {
     "name": "stdout",
     "output_type": "stream",
     "text": [
      "El punto minimo encontrado para la funcion es el definido por [-2.]\n",
      "Este punto se encontó en 21 iteraciones.\n"
     ]
    }
   ],
   "source": [
    "w_history_f2, f_history_f2 = gradient_descent(1e5, 1e-12, 3, obj_func_f, grad_func_f, 0.01)\n",
    "print(f'El punto minimo encontrado para la funcion es el definido por {w_history_f2[len(w_history_f2)-1]}')\n",
    "print(f'Este punto se encontó en {len(w_history_f2)} iteraciones.')"
   ]
  },
  {
   "cell_type": "markdown",
   "metadata": {},
   "source": [
    "- Contrasta e interpreta los dos resultados obtenidos en los apartados anteriores y compáralos con los mínimos locales obtenidos analíticamente. ¿Qué influencia puede llegar a tener la elección del ratio de aprendizaje $\\gamma$?"
   ]
  },
  {
   "cell_type": "markdown",
   "metadata": {},
   "source": [
    "Para hacer este analisis, vamos primero a definir una funcion de visualización que nos permita visualizar que ha sucedido en este caso en 2D"
   ]
  },
  {
   "cell_type": "code",
   "execution_count": 15,
   "metadata": {},
   "outputs": [],
   "source": [
    "def visualize_2D(fn, w_history, f_history):\n",
    "    res= 200\n",
    "    \n",
    "    _X = np.linspace(-3, 3, res)\n",
    "    _Y = np.zeros((res, res))\n",
    "    \n",
    "    for ix, x in enumerate(_X):\n",
    "        _Y[ix] = fn(x)\n",
    "        \n",
    "    fig, ax = plt.subplots()\n",
    "    ax.plot(_X, _Y)\n",
    "    \n",
    "    frame = (len(w_history) // 1000) + 1\n",
    "          \n",
    "    plt.plot(w_history[0], f_history[0],marker='o',c='black') \n",
    "    for _ in np.arange(1,len(w_history)):\n",
    "        if(_ % frame == 0):\n",
    "            plt.plot(w_history[_], f_history[_],marker='x',c='red') \n",
    "    plt.plot(w_history[-1], f_history[-1],marker='o',c='green') \n",
    "    \n",
    "    ax.grid()\n",
    "    plt.show()"
   ]
  },
  {
   "cell_type": "code",
   "execution_count": 16,
   "metadata": {},
   "outputs": [
    {
     "data": {
      "image/png": "[encoded data removed]",
      "text/plain": [
       "<Figure size 432x288 with 1 Axes>"
      ]
     },
     "metadata": {
      "needs_background": "light"
     },
     "output_type": "display_data"
    }
   ],
   "source": [
    "visualize_2D(obj_func_f, w_history_f1, f_history_f1)"
   ]
  },
  {
   "cell_type": "code",
   "execution_count": 17,
   "metadata": {},
   "outputs": [
    {
     "data": {
      "image/png": "[encoded data removed]",
      "text/plain": [
       "<Figure size 432x288 with 1 Axes>"
      ]
     },
     "metadata": {
      "needs_background": "light"
     },
     "output_type": "display_data"
    }
   ],
   "source": [
    "visualize_2D(obj_func_f, w_history_f2, f_history_f2)"
   ]
  },
  {
   "cell_type": "markdown",
   "metadata": {},
   "source": [
    "Analizando la derivada:\n",
    "    \n",
    "$f'(x) = 12x^{3}+12x^{2}-24x$\n",
    "\n",
    "Podemos igualarla a cero y factorizar, obteniendo:\n",
    "\n",
    "$f'(x) = 12x\\left(x-1\\right)\\left(x+2\\right)$\n",
    "\n",
    "igualando a cero la derivada encontraríamos tres puntos críticos. El máximo local `0` y los mínimos locales `-2` y `1`\n",
    "\n",
    "Lo que concuerda perfectamente con los casos obtenidos con la función programada en Python\n",
    "\n",
    "__Conclusión:__ Del punto de partida y el ratio de aprendizaje depende a cuál mínimo nos acerquemos. Con un ratio de aprendizaje más pequeños iremos haciendo pequeños saltos y esto hará probable que nos acerquemos al mínimo local más cercano del punto $X_{0}$, mientras que si usamos un ratio de aprendizaje mayor los saltos iniciales serán más grandes y eso nos podría llevar a otro punto mínimo, como fue el caso."
   ]
  },
  {
   "cell_type": "markdown",
   "metadata": {},
   "source": [
    "- Aplica de nuevo el método sobre f(x) con $x_{0}$ = 3, $\\gamma$ = 0.1, tol=1e-12, maxit=1e5. Interpreta el resultado."
   ]
  },
  {
   "cell_type": "code",
   "execution_count": 18,
   "metadata": {},
   "outputs": [
    {
     "name": "stdout",
     "output_type": "stream",
     "text": [
      "El punto minimo encontrado para la funcion es el definido por [-5.95171e+125]\n",
      "[[ 3.00000e+000]\n",
      " [-3.30000e+001]\n",
      " [ 4.17054e+004]\n",
      " [-8.70500e+013]\n",
      " [ 7.91565e+041]\n",
      " [-5.95171e+125]]\n"
     ]
    },
    {
     "name": "stderr",
     "output_type": "stream",
     "text": [
      "<ipython-input-13-53e562a87fe0>:1: RuntimeWarning: overflow encountered in double_scalars\n",
      "  obj_func_f = lambda x: (3 * x ** 4) + (4 * x ** 3) - (12 * x ** 2) + 7\n",
      "<ipython-input-13-53e562a87fe0>:1: RuntimeWarning: invalid value encountered in double_scalars\n",
      "  obj_func_f = lambda x: (3 * x ** 4) + (4 * x ** 3) - (12 * x ** 2) + 7\n"
     ]
    }
   ],
   "source": [
    "w_history_f3, f_history_f3 = gradient_descent(1e5, 1e-12, 3, obj_func_f, grad_func_f, 0.1)\n",
    "print(f'El punto minimo encontrado para la funcion es el definido por {w_history_f3[len(w_history_f3)-1]}')\n",
    "print(w_history_f3)"
   ]
  },
  {
   "cell_type": "markdown",
   "metadata": {},
   "source": [
    "__Interpretación:__ En este caso analizando los valores de nuestra función gradiente, nos damos cuenta que al utilizar un ratio de aprendizaje mucho mayor que en casos anteriores (0.1), Los saltos que se fueron dando tambien son grandes y los puntos empezaron a moverse entre derecha e izquierda en cada salto alejandose cada vez más del objetivo hasta hacerse infinito."
   ]
  },
  {
   "cell_type": "markdown",
   "metadata": {},
   "source": [
    "- Finalmente aplica el método sobre f(x) con $x_{0}$ = 0, $\\gamma$ = 0.001, tol=1e-12, maxit=1e5. Interpreta el resultado y comp ́aralo con el estudio anal ́ıtico de f. ¿Es correcto el resultado? ¿Por qu ́e? ¿A qu ́e se debe el feno ́meno?"
   ]
  },
  {
   "cell_type": "code",
   "execution_count": 19,
   "metadata": {},
   "outputs": [
    {
     "name": "stdout",
     "output_type": "stream",
     "text": [
      "El punto minimo encontrado para la funcion es el definido por [0.]\n",
      "Este punto se encontó en 2 iteraciones.\n",
      "[[0.]\n",
      " [0.]]\n"
     ]
    }
   ],
   "source": [
    "w_history_f4, f_history_f4 = gradient_descent(1e5, 1e-12, 0, obj_func_f, grad_func_f, 0.001)\n",
    "print(f'El punto minimo encontrado para la funcion es el definido por {w_history_f4[len(w_history_f4)-1]}')\n",
    "print(f'Este punto se encontó en {len(w_history_f4)} iteraciones.')\n",
    "print(w_history_f4)"
   ]
  },
  {
   "cell_type": "markdown",
   "metadata": {},
   "source": [
    "__Interpretación:__ Comparando el resultado con el estudio analitico de f, hace sentido pues el punto 0 es un punto crítico de la función, solo que en este caso se trata de un máximo local. Al haber comenzado nuestra evaluación en el punto 0, cumplió la condición de salida en la primera iteración, encontrando un punto donde la evaluación de la derivada es aproximadamente 0.\n",
    "\n",
    "__Conclusión:__ Es realmente relevante para el estudio de una función, la certera elección del punto de partida y del ratio de aprendizaje.\n",
    "\n",
    "---"
   ]
  },
  {
   "cell_type": "markdown",
   "metadata": {},
   "source": [
    "## Cuarto ejercicio\n",
    "\n",
    "NOTA: De este ejercicio solo se realizará el código en este documento. El analisis del mismo se encuentra en documento PDF anexo.\n",
    "\n",
    "b) Realiza una simulación en Python para este problema, estimando la probabilidad tras realizar una cantidad elevada de simulaciones del problema. La función deberá tener como parámetro de entrada el número de simulaciones n y como parámetro de salida una estimación de la probabilidad p. Para simular la extracción de las cartas y del lado visible tras la extracción puedes valerte de random.randint. Recuerda que durante la simulación sólo deberán contabilizarse los experimentos en los que la cara visible de la carta obtenida ha sido verde y, sobre estos, estimar la proporción de veces en las que la carta de la que procede ha resultado ser la que es verde por ambas caras."
   ]
  },
  {
   "cell_type": "code",
   "execution_count": 20,
   "metadata": {},
   "outputs": [
    {
     "name": "stdout",
     "output_type": "stream",
     "text": [
      "La probabilidad obtenida de la simulación es de: 0.66567033317392\n"
     ]
    }
   ],
   "source": [
    "import random\n",
    "\n",
    "numero_de_simulaciones = 100000 # Nro de simulaciones que se ejecutarán\n",
    "\n",
    "def simulacion(numero_de_simulaciones):\n",
    "    contador_de_exitos = 0\n",
    "    contador_de_experimentos = 0\n",
    "\n",
    "    # Definición de las cartas\n",
    "    cartas = [('roja', 'roja'), ('roja', 'verde'), ('verde', 'verde')]\n",
    "\n",
    "    for _ in range(numero_de_simulaciones):\n",
    "        # Se elige una carta de las tres posibles\n",
    "        carta_de_la_bolsa = cartas[random.randint(0,2)]\n",
    "        \n",
    "        # De la carta elegida se toma una de las caras\n",
    "        cara_visible = carta_de_la_bolsa[random.randint(0,1)]\n",
    "\n",
    "        if cara_visible == 'verde': # Si la cara es verde se cuenta el experimento\n",
    "            contador_de_experimentos += 1\n",
    "            if carta_de_la_bolsa == ('verde', 'verde'): # Si la carta es la verde, verde se cuenta como éxito\n",
    "                contador_de_exitos += 1\n",
    "    \n",
    "    # Se retorna la probabilidad, relación de casos de exito entre casos contabilizados (cara visible verde)\n",
    "    return contador_de_exitos/contador_de_experimentos \n",
    "\n",
    "print(f'La probabilidad obtenida de la simulación es de: {simulacion(numero_de_simulaciones)}')"
   ]
  }
 ],
 "metadata": {
  "kernelspec": {
   "display_name": "Python 3",
   "language": "python",
   "name": "python3"
  },
  "language_info": {
   "codemirror_mode": {
    "name": "ipython",
    "version": 3
   },
   "file_extension": ".py",
   "mimetype": "text/x-python",
   "name": "python",
   "nbconvert_exporter": "python",
   "pygments_lexer": "ipython3",
   "version": "3.8.5"
  }
 },
 "nbformat": 4,
 "nbformat_minor": 4
}
