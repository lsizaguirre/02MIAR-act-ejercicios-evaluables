{
 "cells": [
  {
   "cell_type": "markdown",
   "metadata": {},
   "source": [
    "# 02MIAR - Matemáticas para la Inteligencia Artificial\n",
    "## Entrega de Ejercicios Evaluables\n",
    "\n",
    "### por Luis Izaguirre Viera\n",
    "\n",
    "- email - lsizaguirre@gmail.com\n",
    "\n",
    "---"
   ]
  },
  {
   "cell_type": "markdown",
   "metadata": {},
   "source": [
    "NOTA: Este notebook hace de el desarrollo y entrega de los ejercicios evaluables de la asignatura de Matematicas para la Inteligencia Artificial. En este documento solo se incorporan los códigos en Python asociados a los ejercicios planteados y se entrega junto a un documento.pdf anexo donde se desarrollan el resto de ejercicios. \n",
    "\n",
    "---"
   ]
  },
  {
   "cell_type": "markdown",
   "metadata": {},
   "source": [
    "## Segundo ejercicio\n",
    "\n",
    "Sea $A \\in \\mathbb R^{3x3}$ la matriz cuadrada dada por\n",
    "\\begin{equation*}\n",
    "    A = \n",
    "    \\begin{pmatrix}\n",
    "        3 & -3 & 2\\\\\n",
    "        -4 & 4 & -4\\\\\n",
    "        -3 & 3 & -2\n",
    "    \\end{pmatrix}\n",
    "\\end{equation*}\n",
    "\n",
    "Obténgase cuatro matrices $B \\in \\mathbb R^{3x3}$ tales que $B^{2} = A$.\n",
    "Sugerencia: diagonalizar A puede ser de utilidad. Para el proceso de diagonalización, puedes hacer uso de `numpy.linalg.eig` en Python."
   ]
  },
  {
   "cell_type": "markdown",
   "metadata": {},
   "source": [
    "### Solución: \n",
    "\n",
    "1.- Importamos las librerias necesarias y utilizamos un comando propio de NumPy que nos va a permitir suprimir la notación cientifica a la hora de imprimir valores y configurar una precisión de 5 decimales"
   ]
  },
  {
   "cell_type": "code",
   "execution_count": 86,
   "metadata": {},
   "outputs": [],
   "source": [
    "import numpy as np\n",
    "\n",
    "np.set_printoptions(suppress=True, precision=5)"
   ]
  },
  {
   "cell_type": "markdown",
   "metadata": {},
   "source": [
    "<br/>\n",
    "2.- Inicializamos la matriz $A$"
   ]
  },
  {
   "cell_type": "code",
   "execution_count": 87,
   "metadata": {},
   "outputs": [],
   "source": [
    "A = np.array([[3,-3,2], \n",
    "              [-4,4,-4], \n",
    "              [-3,3,-2]])"
   ]
  },
  {
   "cell_type": "markdown",
   "metadata": {},
   "source": [
    "<br/>\n",
    "3. Para buscar una matriz B tal que $B^2 = A$, debemos encontrar los valores propios y los vectores propios"
   ]
  },
  {
   "cell_type": "code",
   "execution_count": 88,
   "metadata": {},
   "outputs": [
    {
     "name": "stdout",
     "output_type": "stream",
     "text": [
      "Los valores_propios de A son:\n",
      " [4. 0. 1.]\n",
      "\n",
      "Los vectores_propios de A son:\n",
      " [[-0.57735  0.70711 -0.70711]\n",
      " [ 0.57735  0.70711  0.     ]\n",
      " [ 0.57735 -0.       0.70711]]\n"
     ]
    }
   ],
   "source": [
    "valores_propios, vectores_propios = np.linalg.eig(A) \n",
    "\n",
    "print(f'Los valores_propios de A son:\\n {valores_propios}\\n')\n",
    "print(f'Los vectores_propios de A son:\\n {vectores_propios}')"
   ]
  },
  {
   "cell_type": "markdown",
   "metadata": {},
   "source": [
    "<br/>\n",
    "Estos valores nos permitiran diagonalizar la matriz $A$ y poder escribirla de la forma $A=PDP^{-1}$ \n",
    "\n",
    "Nuestro objetivo es encontrar una matriz $B$, tal que $B^{2}=A$, por lo tanto podemos decir que habra una matriz $B$, tal que $B=PD^{1/2}P^{-1}$\n",
    "\n",
    "Para ello, primero calculamos $P$ y $P^{-1}$"
   ]
  },
  {
   "cell_type": "code",
   "execution_count": 89,
   "metadata": {},
   "outputs": [
    {
     "name": "stdout",
     "output_type": "stream",
     "text": [
      "La matriz P es:\n",
      " [[-0.57735  0.70711 -0.70711]\n",
      " [ 0.57735  0.70711  0.     ]\n",
      " [ 0.57735 -0.       0.70711]]\n",
      "\n",
      "La matriz P invertida es:\n",
      " [[-1.73205  1.73205 -1.73205]\n",
      " [ 1.41421 -0.       1.41421]\n",
      " [ 1.41421 -1.41421  2.82843]]\n",
      "\n"
     ]
    }
   ],
   "source": [
    "P = vectores_propios\n",
    "P_INVERTIDA = np.linalg.inv(P)\n",
    "\n",
    "print(f'La matriz P es:\\n {P}\\n')\n",
    "print(f'La matriz P invertida es:\\n {P_INVERTIDA}\\n')"
   ]
  },
  {
   "cell_type": "markdown",
   "metadata": {},
   "source": [
    "<br/>\n",
    "Para obtener la matriz diagonal $D$ lo hacemos a partir de los vectores propios.\n",
    "La matriz diagonal $D$ es:\n",
    "<br/><br/>\n",
    "\n",
    "\\begin{equation*}\n",
    "    D = \n",
    "    \\begin{pmatrix}\n",
    "        4 & 0 & 0\\\\\n",
    "        0 & 0 & 0\\\\\n",
    "        0 & 0 & 1\n",
    "    \\end{pmatrix}\n",
    "\\end{equation*}\n",
    "\\\n",
    "Lo interesante acá es que\n",
    "\\\n",
    "\\begin{equation*}\n",
    "    D^{1/2} = \n",
    "    \\begin{pmatrix}\n",
    "        \\sqrt{4} & 0 & 0\\\\\n",
    "        0 & \\sqrt{0} & 0\\\\\n",
    "        0 & 0 & \\sqrt{1}\n",
    "    \\end{pmatrix}\n",
    "\\end{equation*}\n",
    "\\\n",
    "y esto nos permite construir 4 matrices diagonales para obtener 4 matrices $B$\n",
    "\\begin{equation*}\n",
    "    D^{1/2}_{1} = \n",
    "    \\begin{pmatrix}\n",
    "        2 & 0 & 0\\\\\n",
    "        0 & 0 & 0\\\\\n",
    "        0 & 0 & 1\n",
    "    \\end{pmatrix}, \n",
    "    D^{1/2}_{2} = \n",
    "    \\begin{pmatrix}\n",
    "        2 & 0 & 0\\\\\n",
    "        0 & 0 & 0\\\\\n",
    "        0 & 0 & -1\n",
    "    \\end{pmatrix}, \n",
    "    D^{1/2}_{3} = \n",
    "    \\begin{pmatrix}\n",
    "        -2 & 0 & 0\\\\\n",
    "        0 & 0 & 0\\\\\n",
    "        0 & 0 & 1\n",
    "    \\end{pmatrix}, \n",
    "    D^{1/2}_{4} = \n",
    "    \\begin{pmatrix}\n",
    "        -2 & 0 & 0\\\\\n",
    "        0 & 0 & 0\\\\\n",
    "        0 & 0 & -1\n",
    "    \\end{pmatrix}\n",
    "\\end{equation*}"
   ]
  },
  {
   "cell_type": "markdown",
   "metadata": {},
   "source": [
    "<br/>\n",
    "Primer caso, con:\n",
    "\\begin{equation*}\n",
    "    D^{1/2}_{1} = \n",
    "    \\begin{pmatrix}\n",
    "        2 & 0 & 0\\\\\n",
    "        0 & 0 & 0\\\\\n",
    "        0 & 0 & 1\n",
    "    \\end{pmatrix}\n",
    "\\end{equation*} "
   ]
  },
  {
   "cell_type": "code",
   "execution_count": 90,
   "metadata": {},
   "outputs": [
    {
     "name": "stdout",
     "output_type": "stream",
     "text": [
      "La matriz B es:\n",
      " [[ 1. -1.  0.]\n",
      " [-2.  2. -2.]\n",
      " [-1.  1. -0.]]\n",
      "\n",
      "La matriz B**2 es:\n",
      " [[ 3. -3.  2.]\n",
      " [-4.  4. -4.]\n",
      " [-3.  3. -2.]]\n",
      "\n"
     ]
    }
   ],
   "source": [
    "D_SQRT = np.array([[2, 0, 0], [0, 0, 0], [0, 0, 1]])\n",
    "\n",
    "B = np.matmul(np.matmul(P,D_SQRT), P_INVERTIDA)\n",
    "print(f'La matriz B es:\\n {B}\\n')\n",
    "\n",
    "BB = np.matmul(B,B)\n",
    "print(f'La matriz B**2 es:\\n {BB}\\n')"
   ]
  },
  {
   "cell_type": "markdown",
   "metadata": {},
   "source": [
    "<br/>\n",
    "Segundo caso, con:\n",
    "\\begin{equation*}\n",
    "    D^{1/2}_{2} = \n",
    "    \\begin{pmatrix}\n",
    "        -2 & 0 & 0\\\\\n",
    "        0 & 0 & 0\\\\\n",
    "        0 & 0 & 1\n",
    "    \\end{pmatrix}\n",
    "\\end{equation*} "
   ]
  },
  {
   "cell_type": "code",
   "execution_count": 91,
   "metadata": {},
   "outputs": [
    {
     "name": "stdout",
     "output_type": "stream",
     "text": [
      "La matriz B es:\n",
      " [[-3.  3. -4.]\n",
      " [ 2. -2.  2.]\n",
      " [ 3. -3.  4.]]\n",
      "\n",
      "La matriz B**2 es:\n",
      " [[ 3. -3.  2.]\n",
      " [-4.  4. -4.]\n",
      " [-3.  3. -2.]]\n",
      "\n"
     ]
    }
   ],
   "source": [
    "D_SQRT = np.array([[-2, 0, 0], [0, 0, 0], [0, 0, 1]])\n",
    "\n",
    "B = np.matmul(np.matmul(P,D_SQRT), P_INVERTIDA)\n",
    "print(f'La matriz B es:\\n {B}\\n')\n",
    "\n",
    "BB = np.matmul(B,B)\n",
    "print(f'La matriz B**2 es:\\n {BB}\\n')"
   ]
  },
  {
   "cell_type": "markdown",
   "metadata": {},
   "source": [
    "<br/>\n",
    "Tercer caso, con:\n",
    "\\begin{equation*}\n",
    "    D^{1/2}_{3} = \n",
    "    \\begin{pmatrix}\n",
    "        2 & 0 & 0\\\\\n",
    "        0 & 0 & 0\\\\\n",
    "        0 & 0 & -1\n",
    "    \\end{pmatrix}\n",
    "\\end{equation*} "
   ]
  },
  {
   "cell_type": "code",
   "execution_count": 92,
   "metadata": {},
   "outputs": [
    {
     "name": "stdout",
     "output_type": "stream",
     "text": [
      "La matriz B es:\n",
      " [[ 3. -3.  4.]\n",
      " [-2.  2. -2.]\n",
      " [-3.  3. -4.]]\n",
      "\n",
      "La matriz B**2 es:\n",
      " [[ 3. -3.  2.]\n",
      " [-4.  4. -4.]\n",
      " [-3.  3. -2.]]\n",
      "\n"
     ]
    }
   ],
   "source": [
    "D_SQRT = np.array([[2, 0, 0], [0, 0, 0], [0, 0, -1]])\n",
    "\n",
    "B = np.matmul(np.matmul(P,D_SQRT), P_INVERTIDA)\n",
    "print(f'La matriz B es:\\n {B}\\n')\n",
    "\n",
    "BB = np.matmul(B,B)\n",
    "print(f'La matriz B**2 es:\\n {BB}\\n')"
   ]
  },
  {
   "cell_type": "markdown",
   "metadata": {},
   "source": [
    "<br/>\n",
    "Cuarto caso, con:\n",
    "\\begin{equation*}\n",
    "    D^{1/2}_{4} = \n",
    "    \\begin{pmatrix}\n",
    "        -2 & 0 & 0\\\\\n",
    "        0 & 0 & 0\\\\\n",
    "        0 & 0 & -1\n",
    "    \\end{pmatrix}\n",
    "\\end{equation*} "
   ]
  },
  {
   "cell_type": "code",
   "execution_count": 93,
   "metadata": {},
   "outputs": [
    {
     "name": "stdout",
     "output_type": "stream",
     "text": [
      "La matriz B es:\n",
      " [[-1.  1. -0.]\n",
      " [ 2. -2.  2.]\n",
      " [ 1. -1.  0.]]\n",
      "\n",
      "La matriz B**2 es:\n",
      " [[ 3. -3.  2.]\n",
      " [-4.  4. -4.]\n",
      " [-3.  3. -2.]]\n",
      "\n"
     ]
    }
   ],
   "source": [
    "D_SQRT = np.array([[-2, 0, 0], [0, 0, 0], [0, 0, -1]])\n",
    "\n",
    "B = np.matmul(np.matmul(P,D_SQRT), P_INVERTIDA)\n",
    "print(f'La matriz B es:\\n {B}\\n')\n",
    "\n",
    "BB = np.matmul(B,B)\n",
    "print(f'La matriz B**2 es:\\n {BB}\\n')"
   ]
  },
  {
   "cell_type": "markdown",
   "metadata": {},
   "source": [
    "\\\n",
    "En conclusión las cuatro matrices $B \\in \\mathbb R^{3x3}$ tales que $B^{2} = A$, serian:\n",
    "<br/><br/>\n",
    "\\begin{equation*}\n",
    "    B_{1} = \n",
    "    \\begin{pmatrix}\n",
    "        1 & -1 & 0\\\\\n",
    "        -2 & 2 & -2\\\\\n",
    "        -1 & 1 & 0\n",
    "    \\end{pmatrix}, \n",
    "    B_{2} = \n",
    "    \\begin{pmatrix}\n",
    "        -3 & 3 & -4\\\\\n",
    "        -2 & 2 & -2\\\\\n",
    "        3 & -3 & 4\n",
    "    \\end{pmatrix}, \n",
    "    B_{3} = \n",
    "    \\begin{pmatrix}\n",
    "        3 & -3 & 4\\\\\n",
    "        -2 & 2 & -2\\\\\n",
    "        -3 & 3 & -4\n",
    "    \\end{pmatrix}, \n",
    "    B_{4} = \n",
    "    \\begin{pmatrix}\n",
    "        -1 & 1 & 0\\\\\n",
    "        2 & -2 & 2\\\\\n",
    "        1 & -1 & 0\n",
    "    \\end{pmatrix}\n",
    "\\end{equation*}\n",
    "<br/><br/>\n",
    "\n",
    "---"
   ]
  },
  {
   "cell_type": "markdown",
   "metadata": {},
   "source": [
    "## Cuarto ejercicio\n",
    "\n",
    "Se dispone de tres cartas con las características siguientes:\n",
    "- La primera carta es roja por ambos lados.\n",
    "- La segunda carta es verde por ambos lados.\n",
    "- La tercera carta es roja por un lado y verde por el otro lado.\n",
    "\n",
    "Se introducen las tres cartas en una bolsa, se barajan y se extrae una carta completamente al azar, poníendola sobre la mesa sin mirar y observando posteriormente el lado que ha quedado visible, el cual ha resultado ser de color verde.\n",
    "\n",
    "b) Realiza una simulación en Python para este problema, estimando la probabilidad tras realizar una cantidad elevada de simulaciones del problema. La función deberá tener como parámetro de entrada el número de simulaciones n y como parámetro de salida una estimación de la probabilidad p. Para simular la extracción de las cartas y del lado visible tras la extracción puedes valerte de random.randint. Recuerda que durante la simulación sólo deberán contabilizarse los experimentos en los que la cara visible de la carta obtenida ha sido verde y, sobre estos, estimar la proporción de veces en las que la carta de la que procede ha resultado ser la que es verde por ambas caras."
   ]
  },
  {
   "cell_type": "code",
   "execution_count": 94,
   "metadata": {},
   "outputs": [
    {
     "name": "stdout",
     "output_type": "stream",
     "text": [
      "0.6654387475224729\n"
     ]
    }
   ],
   "source": [
    "import random\n",
    "\n",
    "numero_de_simulaciones = 100000 # Nro de simulaciones que se ejecutarán\n",
    "\n",
    "def simulacion(numero_de_simulaciones):\n",
    "    contador_de_exitos = 0\n",
    "    contador_de_experimentos = 0\n",
    "\n",
    "    # Definición de las cartas\n",
    "    cartas = [('roja', 'roja'), ('roja', 'verde'), ('verde', 'verde')]\n",
    "\n",
    "    for _ in range(numero_de_simulaciones):\n",
    "        # Se elige una carta de las tres posibles\n",
    "        carta_de_la_bolsa = cartas[random.randint(0,2)]\n",
    "        \n",
    "        # De la carta elegida se toma una de las caras\n",
    "        cara_visible = carta_de_la_bolsa[random.randint(0,1)]\n",
    "\n",
    "        if cara_visible == 'verde': # Si la cara es verde se cuenta el experimento\n",
    "            contador_de_experimentos += 1\n",
    "            if carta_de_la_bolsa == ('verde', 'verde'): # Si la carta es la verde, verde se cuenta como éxito\n",
    "                contador_de_exitos += 1\n",
    "    \n",
    "    # Se imprime la probabilidad, relación de casos de exito entre casos contabilizados (cara visible verde)\n",
    "    print(contador_de_exitos/contador_de_experimentos) \n",
    "\n",
    "simulacion(numero_de_simulaciones)"
   ]
  }
 ],
 "metadata": {
  "kernelspec": {
   "display_name": "Python 3",
   "language": "python",
   "name": "python3"
  },
  "language_info": {
   "codemirror_mode": {
    "name": "ipython",
    "version": 3
   },
   "file_extension": ".py",
   "mimetype": "text/x-python",
   "name": "python",
   "nbconvert_exporter": "python",
   "pygments_lexer": "ipython3",
   "version": "3.8.5"
  }
 },
 "nbformat": 4,
 "nbformat_minor": 4
}
