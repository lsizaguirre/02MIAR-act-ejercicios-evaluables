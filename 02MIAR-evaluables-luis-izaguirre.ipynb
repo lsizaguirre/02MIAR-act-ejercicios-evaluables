{
 "cells": [
  {
   "cell_type": "markdown",
   "metadata": {},
   "source": [
    "# 02MIAR - Matemáticas para la Inteligencia Artificial\n",
    "## Entrega de Ejercicios Evaluables\n",
    "\n",
    "### por Luis Izaguirre Viera\n",
    "\n",
    "- email - lsizaguirre@gmail.com\n",
    "\n",
    "---"
   ]
  },
  {
   "cell_type": "markdown",
   "metadata": {},
   "source": [
    "## 1. Demúestrese o refútese razonadamente la equivalencia entre los pares de enunciados siguientes:\n",
    "\n",
    "### a) Primer par de enunciados:\n",
    "- $\\neg \\exists x : \\neg(\\neg p(x)\\lor \\neg q(x))$, al que llamaremos primer enunciado\n",
    "- $[\\forall x, \\neg p(x)] \\lor [\\forall x, \\neg q(x)]$, al que llamaremos segundo enunciado\n",
    "\n",
    "1. Para demostrar o refutar su equivalencia partiremos aplicando al primer enunciado la siguiente ley de Morgan:\n",
    "\n",
    "- Ley: $\\forall x,  p(x) \\equiv \\neg [\\exists x : \\neg p(x)]$\n",
    "\n",
    "2. De esa forma el primer enunciado $\\neg \\exists x : \\neg(\\neg p(x)\\lor \\neg q(x))$, podriamos tambien escribirlo así:\n",
    "\n",
    "- primer enunciado $\\forall x : \\neg p(x) \\lor \\neg q(x)$\n",
    "\n",
    "3. Además sabemos que existe una propiedad de la equivalencia que nos dice: \n",
    "\n",
    "- Propiedad: $[\\forall x, p(x)] \\lor [\\forall x, q(x)] \\models \\forall x : [p(x) \\lor q(x)]$\n",
    "\n",
    "4. Tomando esto último en consideración podriamos aplicarlo al primer enunciado y quedaría demostrado que: \n",
    "\n",
    "- $[\\forall x, \\neg p(x)] \\lor [\\forall x, \\neg q(x)] \\models \\forall x : [\\neg p(x) \\lor \\neg q(x)]$\n",
    "\n",
    "5. Por esto último podemos concluir que el segundo enunciado implica al primero, pero no en sentido contrario, por lo tanto:\n",
    " \n",
    "- #### NO son equivalentes ####"
   ]
  },
  {
   "cell_type": "markdown",
   "metadata": {},
   "source": [
    "### a) Segundo par de enunciados:\n",
    "- $\\neg ( \\forall x, \\exists y: [ (p(x,y) \\land q(x,y)) \\implies r(x,y) ] )$, al que llamaremos primer enunciado\n",
    "- $\\exists x : [(\\forall y, p(x,y)) \\land (\\forall y, q(x,y)) \\land (\\forall y, \\neg r(x,y))]$, al que llamaremos segundo enunciado\n",
    "\n",
    "1. Analizando inicialmente ambos enunciados decido partir por el segundo, intentando resolver primero la parte interna del mismo. A esta parte la llamaremos AUX, de esta forma podriamos reescribir el segundo enunciado como: \n",
    "- segundo enunciado: $\\exists x :$ AUX,\n",
    "- donde AUX = $[(\\forall y, p(x,y)) \\land (\\forall y, q(x,y)) \\land (\\forall y, \\neg r(x,y))]$\n",
    "\n",
    "2. Ahora nos concentraremos en simplificar AUX y para ello aplicaremos la siguiente propiedad\n",
    "\n",
    "- Propiedad: $[\\forall x, p(x)] \\land [\\forall x, q(x)] \\equiv \\forall x : [p(x) \\land q(x)]$\n",
    "\n",
    "3. Aplicando lo anterior sobre AUX = $[(\\forall y, p(x,y)) \\land (\\forall y, q(x,y)) \\land (\\forall y, \\neg r(x,y))]$, nos quedaría de la siguiente forma:\n",
    "\n",
    "- AUX = $\\forall y, [p(x,y)) \\land q(x,y) \\land \\neg r(x,y)]$\n",
    "\n",
    "3. Además sabemos que existe una ley de Morgan que nos dice:\n",
    "\n",
    "- Ley: $\\forall x,  p(x) \\equiv \\neg [\\exists x : \\neg p(x)]$ \n",
    "\n",
    "4. Si aplicamos esta ley sobre AUX, tendriamos: \n",
    "\n",
    "- AUX = $\\neg \\exists y, \\neg [p(x,y)) \\land q(x,y) \\land \\neg r(x,y)]$\n",
    "\n",
    "5. Tambien sabemos que:\n",
    "\n",
    "- $a \\land (b \\land c) \\equiv (a \\land b) \\land c$\n",
    "y que \n",
    "- $\\neg (a \\land b) \\equiv \\neg a \\lor \\neg b$\n",
    "\n",
    "6. Si consideramos:\n",
    "- a= $p(x,y)) \\land q(x,y)$\n",
    "- b= $\\neg r(x,y)$\n",
    "\n",
    "7. Podriamos perfectamente reescribir AUX como:\n",
    "- AUX = $\\neg \\exists y, [\\neg (p(x,y)) \\land q(x,y)) \\lor \\neg(\\neg r(x,y))]$\n",
    "o lo que es lo mismo.\n",
    "- AUX = $\\neg \\exists y, [\\neg (p(x,y)) \\land q(x,y)) \\lor r(x,y)]$\n",
    "\n",
    "8. Para finalizar con la manipulacioón de AUX, tambien recordemos que $\\neg p \\lor q \\equiv p \\implies q$, y aplicando esto sobre AUX quedaría de la siguiente forma:\n",
    "- AUX = $\\neg \\exists y, [(p(x,y)) \\land q(x,y)) \\implies r(x,y)]$\n",
    "\n",
    "9. Ahora podemos sustituir AUX en su original, es decir, en el segundo enunciado:\n",
    "- segundo enunciado: $\\exists x :$ AUX,\n",
    "- segundo enunciado: $\\exists x : \\neg \\exists y, [(p(x,y)) \\land q(x,y)) \\implies r(x,y)]$,\n",
    "\n",
    "10. Para finalizar, aplicaremos sobre el cuantificador existencial de x la siguiente ley:\n",
    "- Ley: $\\exists x : p(x) \\equiv \\neg[\\forall x, \\neg p(x)]$\n",
    "\n",
    "11. Quedando el segundo enunciado reescrito de la siguiente forma:\n",
    "$\\neg ( \\forall x, \\exists y: [ (p(x,y) \\land q(x,y)) \\implies r(x,y) ] )$\n",
    "\n",
    "lo que es igual al primer enunciado, por lo tanto estos dos enunciados **SON EQUIVALENTES**\n",
    "\n",
    "\n",
    "---"
   ]
  },
  {
   "cell_type": "markdown",
   "metadata": {},
   "source": [
    "## 4. Se dispone de tres cartas con las características siguientes:\n",
    "- La primera carta es roja por ambos lados.\n",
    "- La segunda carta es verde por ambos lados.\n",
    "- La tercera carta es roja por un lado y verde por el otro lado.\n",
    "\n",
    "Se introducen las tres cartas en una bolsa, se barajan y se extrae una carta completamente al azar, poníendola sobre la mesa sin mirar y observando posteriormente el lado que ha quedado visible, el cual ha resultado ser de color verde."
   ]
  },
  {
   "cell_type": "markdown",
   "metadata": {},
   "source": [
    "### a) Intuitivamente, ¿cúal crees que es la probabilidad de que al girar la carta el otro lado resulte ser tambíen verde?\n",
    "\n",
    "Lo habitual sería responder que la probabilidad es 0.5. La primera intuición nos hace pensar que si el ladovisible de la carta seleccionada es de color verde, descartariamos una de las opciones iniciales (la que es roja por ambos lados) y nuestras probabilidades se centrarían en 2.\n",
    "\n",
    "Una opción de 2."
   ]
  },
  {
   "cell_type": "markdown",
   "metadata": {},
   "source": [
    "### b) Realiza una simulación en Python para este problema, estimando la probabilidad tras realizar una cantidad elevada de simulaciones del problema. La función deberá tener como parámetro de entrada el número de simulaciones n y como parámetro de salida una estimación de la probabilidad p. Para simular la extracción de las cartas y del lado visible tras la extracción puedes valerte de random.randint. Recuerda que durante la simulación sólo deberán contabilizarse los experimentos en los que la cara visible de la carta obtenida ha sido verde y, sobre estos, estimar la proporción de veces en las que la carta de la que procede ha resultado ser la que es verde por ambas caras.\n",
    "\n"
   ]
  },
  {
   "cell_type": "code",
   "execution_count": 71,
   "metadata": {},
   "outputs": [
    {
     "name": "stdout",
     "output_type": "stream",
     "text": [
      "0.6639668826493881\n"
     ]
    }
   ],
   "source": [
    "import random\n",
    "\n",
    "numero_de_simulaciones = 100000\n",
    "\n",
    "def simulacion(numero_de_simulaciones):\n",
    "    contador_de_exitos = 0\n",
    "    contador_de_experimentos = 0\n",
    "\n",
    "    cartas = [('roja', 'roja'), ('roja', 'verde'), ('verde', 'verde')]\n",
    "\n",
    "    for _ in range(numero_de_simulaciones):\n",
    "        carta_de_la_bolsa = cartas[random.randint(0,2)]\n",
    "        cara_visible = carta_de_la_bolsa[random.randint(0,1)]\n",
    "\n",
    "        #print(carta_de_la_bolsa)\n",
    "        #print(cara_visible)\n",
    "\n",
    "        if cara_visible == 'verde':\n",
    "            contador_de_experimentos += 1\n",
    "            if carta_de_la_bolsa == ('verde', 'verde'):\n",
    "                contador_de_exitos += 1\n",
    "    \n",
    "    print(contador_de_exitos/contador_de_experimentos)\n",
    "\n",
    "simulacion(numero_de_simulaciones)"
   ]
  },
  {
   "cell_type": "markdown",
   "metadata": {},
   "source": [
    "### c) ¿Son los resultados obtenidos consistentes con tu intuiciòn inicial? De no ser el caso, ¿puedes conjeturar el valor correcto de la probabilidad? Una vez realizada, demuestra formalmente que el valor de la probabilidad conjeturada es el correcto y/o porporciona esquemáticamente la explicación de por qué se verifica.\n",
    "\n",
    "La simulación evidencia una probabilidad de 2/3 o 0,666666.\n",
    "\n",
    "Generalmente por intuición descartamos información con la que ya contamos y en este caso es que hay un suceso inicial. Este es un típico ejemplo de Probabilidad Condicionada, donde tenemos que:\n",
    "\n",
    "P(de que la carta sea la verde, verde) = P(vv) = 1/3, una de tres cartas posibles.\n",
    "P(de que el lado visible de la primera carta sea verde) = P(cv) = 3/6 = 1/2, tres opciones de 6 posibles.\n",
    "P(vv y cv)"
   ]
  },
  {
   "cell_type": "markdown",
   "metadata": {},
   "source": [
    "A= PDP-1\n",
    "A2 = (PDP-1)(PDP-1)\n",
    "A2 = PD(P-1P)DP-1\n",
    "A2 = PD(I)(D)P-1\n",
    "A2 = PD(D)P-1\n",
    "A2 = P D2 P-1\n",
    "\n",
    "Para diagonalizar una matriz. \n",
    "1 Calcular los valores propios\n",
    "2 Calcular vectores propios asociados\n",
    "3 Formar las matrices P y D"
   ]
  },
  {
   "cell_type": "code",
   "execution_count": 23,
   "metadata": {},
   "outputs": [
    {
     "name": "stdout",
     "output_type": "stream",
     "text": [
      "[4. 0. 1.]\n",
      "[[-0.57735027  0.70710678 -0.70710678]\n",
      " [ 0.57735027  0.70710678  0.        ]\n",
      " [ 0.57735027 -0.          0.70710678]]\n"
     ]
    }
   ],
   "source": [
    "import numpy as np\n",
    "matrix_aux = [[3,-3,2], [-4,4,-4], [-3,3,-2]]\n",
    "#matrix_aux = [[7, -10], [5,-8]]\n",
    "m = np.array(matrix_aux)\n",
    "\n",
    "v, w = np.linalg.eig(m) \n",
    "\n",
    "np.set_printoptions(suppress=True)\n",
    "print(v)\n",
    "print(w)"
   ]
  },
  {
   "cell_type": "code",
   "execution_count": null,
   "metadata": {},
   "outputs": [],
   "source": [
    "factorizar\\:\\left(3-x\\right)\\left[\\left(4-x\\right)\\left(-2-x\\right)+12\\right]+3\\left[-4\\left(-2-x\\right)-12\\right]+2\\left[-12-\\left(-3\\right)\\left(4-x\\right)\\right]\\:"
   ]
  },
  {
   "cell_type": "code",
   "execution_count": 2,
   "metadata": {},
   "outputs": [
    {
     "name": "stdout",
     "output_type": "stream",
     "text": [
      "[[1.73205081        nan 1.41421356]\n",
      " [       nan 2.                nan]\n",
      " [       nan 1.73205081        nan]]\n"
     ]
    },
    {
     "name": "stderr",
     "output_type": "stream",
     "text": [
      "<ipython-input-2-d3a0df2a5142>:6: RuntimeWarning: invalid value encountered in sqrt\n",
      "  v = np.sqrt(m)\n"
     ]
    }
   ],
   "source": [
    "import numpy as np\n",
    "matrix_aux = [[3,-3,2], [-4,4,-4], [-3,3,-2]]\n",
    "\n",
    "m = np.array(matrix_aux)\n",
    "\n",
    "v = np.sqrt(m) \n",
    "\n",
    "np.set_printoptions(suppress=True)\n",
    "print(v)\n"
   ]
  },
  {
   "cell_type": "code",
   "execution_count": 17,
   "metadata": {},
   "outputs": [
    {
     "name": "stdout",
     "output_type": "stream",
     "text": [
      "[[2 0]\n",
      " [0 3]]\n",
      "[[4 0]\n",
      " [0 9]]\n"
     ]
    }
   ],
   "source": [
    "A = np.array([[2, 0], [0, 3]])\n",
    "B = np.linalg.matrix_power(A, 2)\n",
    "\n",
    "print(A)\n",
    "print(B)"
   ]
  },
  {
   "cell_type": "code",
   "execution_count": 19,
   "metadata": {},
   "outputs": [
    {
     "data": {
      "text/plain": [
       "array([[2., 0.],\n",
       "       [0., 3.]])"
      ]
     },
     "execution_count": 19,
     "metadata": {},
     "output_type": "execute_result"
    }
   ],
   "source": [
    "from scipy.linalg import sqrtm\n",
    "a = np.array([[4, 0], [0, 9]])\n",
    "r = sqrtm(a)\n",
    "r"
   ]
  },
  {
   "cell_type": "code",
   "execution_count": 20,
   "metadata": {},
   "outputs": [
    {
     "name": "stdout",
     "output_type": "stream",
     "text": [
      "[[ 3 -1]\n",
      " [-2  4]]\n",
      "[[ 11  -7]\n",
      " [-14  18]]\n"
     ]
    }
   ],
   "source": [
    "A = np.array([[3, -1], [-2, 4]])\n",
    "B = np.linalg.matrix_power(A, 2)\n",
    "\n",
    "print(A)\n",
    "print(B)"
   ]
  },
  {
   "cell_type": "code",
   "execution_count": 77,
   "metadata": {},
   "outputs": [
    {
     "name": "stdout",
     "output_type": "stream",
     "text": [
      "Numpy Matrix is:\n",
      "[[ 3 -3  2]\n",
      " [-4  4 -4]\n",
      " [-3  3 -2]]\n",
      "\n",
      "Valores propios:\n",
      "[4. 0. 1.]\n",
      "\n",
      "Vectores propios:\n",
      "[[-0.57735027  0.70710678 -0.70710678]\n",
      " [ 0.57735027  0.70710678  0.        ]\n",
      " [ 0.57735027 -0.          0.70710678]]\n",
      "\n",
      " Matriz B\n",
      "[[ 1. -1.  0.]\n",
      " [-2.  2. -2.]\n",
      " [-1.  1. -0.]]\n",
      "\n",
      " Matriz B**2\n",
      "[[ 3. -3.  2.]\n",
      " [-4.  4. -4.]\n",
      " [-3.  3. -2.]]\n",
      "[[ 5 -2 -3]\n",
      " [ 5  2  0]\n",
      " [ 0  2  3]]\n",
      "\n",
      " Matriz B\n",
      "[[-1.  1.  0.]\n",
      " [ 2. -2.  2.]\n",
      " [ 1. -1.  0.]]\n",
      "\n",
      " Matriz B**2\n",
      "[[ 3. -3.  2.]\n",
      " [-4.  4. -4.]\n",
      " [-3.  3. -2.]]\n"
     ]
    }
   ],
   "source": [
    "# importing Numpy package\n",
    "import numpy as np\n",
    "  \n",
    "# creating a 3X3 Numpy matrix\n",
    "n_array = np.array([[3, -3, 2], [-4, 4, -4], [-3, 3, -2]])\n",
    "\n",
    "# Displaying the Matrix\n",
    "print(\"Numpy Matrix is:\")\n",
    "print(n_array)\n",
    "  \n",
    "# calculating the determinant of matrix\n",
    "valores_propios, vectores_propios = np.linalg.eig(n_array)\n",
    "  \n",
    "print(\"\\nValores propios:\")\n",
    "print(valores_propios)\n",
    "\n",
    "print(\"\\nVectores propios:\")\n",
    "print(vectores_propios)\n",
    "\n",
    "P = vectores_propios\n",
    "D = np.diag([2,0,1])\n",
    "PI = np.linalg.inv(P)\n",
    "\n",
    "B = np.matmul(np.matmul(P,D), PI)\n",
    "print(\"\\n Matriz B\")\n",
    "print(B)\n",
    "\n",
    "BB = np.matmul(B,B)\n",
    "print(\"\\n Matriz B**2\")\n",
    "print(BB)\n",
    "\n",
    "P = np.array([[5, -2, -3], [5, 2, 0], [0, 2, 3]])\n",
    "print(P)\n",
    "D = np.diag([0,-2,-1])\n",
    "PI = np.linalg.inv(P)\n",
    "\n",
    "B = np.matmul(np.matmul(P,D), PI)\n",
    "print(\"\\n Matriz B\")\n",
    "print(B)\n",
    "\n",
    "BB = np.matmul(B,B)\n",
    "print(\"\\n Matriz B**2\")\n",
    "print(BB)\n",
    "\n",
    "\n",
    "print(Jugar con la diagonal)"
   ]
  }
 ],
 "metadata": {
  "kernelspec": {
   "display_name": "Python 3",
   "language": "python",
   "name": "python3"
  },
  "language_info": {
   "codemirror_mode": {
    "name": "ipython",
    "version": 3
   },
   "file_extension": ".py",
   "mimetype": "text/x-python",
   "name": "python",
   "nbconvert_exporter": "python",
   "pygments_lexer": "ipython3",
   "version": "3.8.5"
  }
 },
 "nbformat": 4,
 "nbformat_minor": 4
}
